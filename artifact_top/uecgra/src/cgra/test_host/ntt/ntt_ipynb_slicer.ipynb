{
 "cells": [
  {
   "cell_type": "code",
   "execution_count": 1,
   "id": "4a55e94a",
   "metadata": {},
   "outputs": [],
   "source": [
    "import sys\n",
    "import os\n",
    "import time\n",
    "import threading\n",
    "import subprocess\n",
    "import json\n",
    "import math\n",
    "from IPython.display import Image, display\n",
    "import matplotlib.pyplot as plt\n",
    "from PIL import Image\n",
    "import numpy as np"
   ]
  },
  {
   "cell_type": "code",
   "execution_count": 2,
   "id": "e6735214",
   "metadata": {},
   "outputs": [
    {
     "name": "stdout",
     "output_type": "stream",
     "text": [
      "ntt_CT.cpp  ntt_ipynb_slicer.ipynb\r\n"
     ]
    }
   ],
   "source": [
    "!ls"
   ]
  },
  {
   "cell_type": "code",
   "execution_count": 5,
   "id": "dfc0bf96",
   "metadata": {},
   "outputs": [],
   "source": [
    "!clang -emit-llvm -O3 -fno-unroll-loops -o ntt.bc -c ntt_CT.cpp\n",
    "!llvm-dis ntt.bc -o kernel.ll\n"
   ]
  },
  {
   "cell_type": "code",
   "execution_count": 6,
   "id": "3902ad5a",
   "metadata": {},
   "outputs": [],
   "source": [
    "irFile = open('kernel.ll', 'r')\n",
    "irLines = irFile.readlines()"
   ]
  },
  {
   "cell_type": "code",
   "execution_count": 8,
   "id": "052bdcda",
   "metadata": {},
   "outputs": [],
   "source": [
    "targetKernels=[]\n",
    "for line in irLines:\n",
    "    if \"define \" in line and \"{\" in line and \"@\" in line:\n",
    "        funcName = line.split(\"@\")[1].split(\"(\")[0]\n",
    "        if \"main\" not in funcName:\n",
    "            targetKernels.append(funcName)\n",
    "\n",
    "irFile.close()"
   ]
  },
  {
   "cell_type": "code",
   "execution_count": 9,
   "id": "ae23a247",
   "metadata": {},
   "outputs": [
    {
     "name": "stdout",
     "output_type": "stream",
     "text": [
      "['_Z5powerxx', '_Z9nttKernelPxiS_i', '_Z3nttPxii']\n"
     ]
    }
   ],
   "source": [
    "print(targetKernels)"
   ]
  },
  {
   "cell_type": "code",
   "execution_count": null,
   "id": "f6696906",
   "metadata": {},
   "outputs": [],
   "source": []
  }
 ],
 "metadata": {
  "kernelspec": {
   "display_name": "Python 3 (ipykernel)",
   "language": "python",
   "name": "python3"
  },
  "language_info": {
   "codemirror_mode": {
    "name": "ipython",
    "version": 3
   },
   "file_extension": ".py",
   "mimetype": "text/x-python",
   "name": "python",
   "nbconvert_exporter": "python",
   "pygments_lexer": "ipython3",
   "version": "3.7.13"
  }
 },
 "nbformat": 4,
 "nbformat_minor": 5
}
